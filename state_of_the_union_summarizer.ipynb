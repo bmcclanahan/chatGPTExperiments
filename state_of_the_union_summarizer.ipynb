{
 "cells": [
  {
   "cell_type": "code",
   "execution_count": null,
   "id": "396d66db-27bc-448b-a372-e93c73ad2eca",
   "metadata": {},
   "outputs": [],
   "source": [
    "! pip install langchain"
   ]
  },
  {
   "cell_type": "code",
   "execution_count": 1,
   "id": "964f7b47-732f-476a-8b2b-1b1f471a9249",
   "metadata": {},
   "outputs": [],
   "source": [
    "data_dir = 'data/state_of_the_union/'"
   ]
  },
  {
   "cell_type": "code",
   "execution_count": 2,
   "id": "2002968d-cf0b-4350-9d98-9e4f8806c6fb",
   "metadata": {},
   "outputs": [],
   "source": [
    "import os\n",
    "\n",
    "paths = [os.path.join(data_dir, f) for f in os.listdir(data_dir)]\n",
    "texts = [open(path, 'r').read().replace('\\n\\n', '\\n') for path in paths if path.endswith('.txt')]"
   ]
  },
  {
   "cell_type": "code",
   "execution_count": 3,
   "id": "cf0888a8-e443-44b3-9563-caaa6bb97b5d",
   "metadata": {},
   "outputs": [],
   "source": [
    "from langchain.text_splitter import CharacterTextSplitter"
   ]
  },
  {
   "cell_type": "code",
   "execution_count": 4,
   "id": "44ee6f38-d941-430c-b58e-1be9a0c06137",
   "metadata": {},
   "outputs": [],
   "source": [
    "text_splitter = CharacterTextSplitter(separator = \".\", chunk_size=3000, chunk_overlap=100)\n",
    "docs = text_splitter.create_documents([texts[0]])"
   ]
  },
  {
   "cell_type": "code",
   "execution_count": 5,
   "id": "6007af72-eed5-4a6c-9c62-2b395fb0bc0a",
   "metadata": {},
   "outputs": [],
   "source": [
    "from langchain.prompts.base import BasePromptTemplate\n",
    "from langchain import LLMChain, OpenAI, PromptTemplate\n",
    "from langchain.text_splitter import TextSplitter\n",
    "from typing import Any, Dict, Optional, List\n",
    "from langchain.callbacks.manager import CallbackManagerForChainRun\n",
    "from langchain.chains.summarize import load_summarize_chain, refine_prompts\n",
    "from langchain.schema import LLMResult, Generation\n",
    "\n",
    "\n",
    "class RefineLLMChain(LLMChain):\n",
    "    \"\"\"Chain to run queries against LLMs. Queries can be large and will be broken up and\n",
    "    processed incrementally using the Refine summarize strategy. Only one input key allowed.\n",
    "\n",
    "    Example:\n",
    "        .. code-block:: python\n",
    "\n",
    "            from langchain import LLMChain, OpenAI, PromptTemplate\n",
    "            prompt_template = \"Tell me a {adjective} joke\"\n",
    "            prompt = PromptTemplate(\n",
    "                input_variables=[\"adjective\"], template=prompt_template\n",
    "            )\n",
    "            llm = LLMChain(llm=OpenAI(), prompt=prompt)\n",
    "    \"\"\"\n",
    "    \n",
    "    text_splitter: TextSplitter\n",
    "    \"\"\"TextSplitter used to split up the input text if necessary (e.g. input text is too long to use for a single call\n",
    "    to LLM)\n",
    "    \"\"\"\n",
    "    question_prompt: BasePromptTemplate = refine_prompts.PROMPT\n",
    "    \"\"\"Question prompt for refine chain\n",
    "    \"\"\"\n",
    "    refine_prompt: BasePromptTemplate = refine_prompts.REFINE_PROMPT\n",
    "    \"\"\"Refine prompt for refine chain\n",
    "    \"\"\"\n",
    "\n",
    "    # def _call(\n",
    "    #     self,\n",
    "    #     inputs: Dict[str, Any],\n",
    "    #     run_manager: Optional[CallbackManagerForChainRun] = None,\n",
    "    # ) -> Dict[str, str]:\n",
    "    #     text = inputs[self.prompt.input_variables[0]] # do some input validation here. checking that there is only one key in the dict\n",
    "    #     docs = self.text_splitter.create_documents([text])\n",
    "    #     with open(\"doc_nums.txt\", \"a\") as myfile:\n",
    "    #         myfile.write(f\"appended text {len(docs)}\")\n",
    "    #     refine_chain = load_summarize_chain(self.llm, chain_type=\"refine\")\n",
    "    #     output = refine_chain({\"input_documents\": docs}, return_only_outputs=True)\n",
    "    #     return {'text': output['output_text']}\n",
    "\n",
    "\n",
    "    def generate( # this is a hack and should be refactored\n",
    "        self,\n",
    "        input_list: List[Dict[str, Any]],\n",
    "        run_manager: Optional[CallbackManagerForChainRun] = None,\n",
    "    ) -> LLMResult:\n",
    "        \"\"\"Generate LLM result from inputs.\"\"\"\n",
    "        # prompts, stop = self.prep_prompts(input_list, run_manager=run_manager)\n",
    "        # output = self.llm.generate_prompt(\n",
    "        #     prompts,\n",
    "        #     stop,\n",
    "        #     callbacks=run_manager.get_child() if run_manager else None,\n",
    "        #     **self.llm_kwargs,\n",
    "        # )\n",
    "        refine_chain = load_summarize_chain(\n",
    "            self.llm, chain_type=\"refine\",\n",
    "            refine_prompt=self.refine_prompt,\n",
    "            question_prompt=self.question_prompt, \n",
    "        )\n",
    "        generations = []\n",
    "        for input_item in input_list:\n",
    "            text = input_item[self.prompt.input_variables[0]] # do some input validation here. checking that there is only one key in the dict\n",
    "            docs = self.text_splitter.create_documents([text])\n",
    "            output = refine_chain(\n",
    "                {\"input_documents\": docs}, return_only_outputs=True\n",
    "            )\n",
    "            generations.append([Generation(text=output[\"output_text\"])])\n",
    "        return LLMResult(generations=generations)\n",
    "    \n",
    "    \"\"\"\n",
    "    todo: implement async call\n",
    "    \"\"\""
   ]
  },
  {
   "cell_type": "code",
   "execution_count": 6,
   "id": "a1e029d1-80f5-4f8f-927e-28782bfda183",
   "metadata": {},
   "outputs": [],
   "source": [
    "llm1 = OpenAI()\n",
    "llm2 = OpenAI() # can probably just use one variable here"
   ]
  },
  {
   "cell_type": "code",
   "execution_count": 7,
   "id": "d730d806-1f4e-4be4-9f3b-a72a1bf891c1",
   "metadata": {},
   "outputs": [],
   "source": [
    "refine_text_splitter = CharacterTextSplitter(separator = \".\", chunk_size=1000, chunk_overlap=100)"
   ]
  },
  {
   "cell_type": "code",
   "execution_count": 8,
   "id": "5cf809dc-8d50-4ffa-b06c-e9cadcb3d6ea",
   "metadata": {},
   "outputs": [],
   "source": [
    "prompt_template = \"{text}\"\n",
    "prompt = PromptTemplate(\n",
    "    input_variables=[\"text\"], template=prompt_template\n",
    ") # kinda hacky but works\n",
    "refineLLMChain = RefineLLMChain(llm=llm1, prompt=prompt, text_splitter=refine_text_splitter)"
   ]
  },
  {
   "cell_type": "markdown",
   "id": "c3ef0ec8-f851-40b0-9c42-3078b380eaf8",
   "metadata": {},
   "source": [
    "Test the output of the custom RefineLLMChain"
   ]
  },
  {
   "cell_type": "code",
   "execution_count": 9,
   "id": "a982ffa3-6248-47a7-baa4-6c816379baa4",
   "metadata": {},
   "outputs": [
    {
     "data": {
      "text/plain": [
       "{'text': '\\n\\nThree years ago, the US launched the Great American Comeback, rejecting the mentality of American decline and downsizing of its destiny. Since then, President Trump has moved rapidly to revive the economy, slashing job-killing regulations, enacting historic tax cuts and fighting for fair trade agreements. This has resulted in 7 million new jobs, 5 million more than predicted, and the lowest unemployment rate in over half a century. The economy is the best it has ever been, the military is completely rebuilt, borders are secure, families are flourishing, values are renewed, pride is restored, and the state of the Union is stronger than ever before. This vision demonstrates how we are building the world’s most prosperous and inclusive society. With the reversal of the failed economic policies of the previous administration, the world is now witnessing this great economic success with the unemployment rate for African Americans, Hispanic Americans, and Asian Americans reaching the lowest levels in history.'}"
      ]
     },
     "execution_count": 9,
     "metadata": {},
     "output_type": "execute_result"
    }
   ],
   "source": [
    "refineLLMChain({\"text\": docs[0].page_content})"
   ]
  },
  {
   "cell_type": "code",
   "execution_count": 10,
   "id": "1931de4d-c1f2-4e27-9643-f3b8dc393540",
   "metadata": {},
   "outputs": [],
   "source": [
    "refine_chain = load_summarize_chain(llm2, chain_type=\"refine\")"
   ]
  },
  {
   "cell_type": "code",
   "execution_count": 11,
   "id": "e103f124-afae-4f77-aa64-308ac14de58a",
   "metadata": {},
   "outputs": [],
   "source": [
    "from langchain.chains.combine_documents.map_reduce import MapReduceDocumentsChain\n",
    "\n",
    "map_reduce_chain = MapReduceDocumentsChain(\n",
    "    llm_chain=refineLLMChain,\n",
    "    combine_document_chain=refine_chain,\n",
    "    return_intermediate_steps=True\n",
    ")"
   ]
  },
  {
   "cell_type": "markdown",
   "id": "a60c6321-c142-4ae5-b94f-a0c57fa6babb",
   "metadata": {},
   "source": [
    "Test the custom MapReduceDocumentChain that uses a refine summarizing strategy for both the map and reduce steps"
   ]
  },
  {
   "cell_type": "code",
   "execution_count": 12,
   "id": "fbb05046-7f8f-425a-967d-cace6de417a9",
   "metadata": {},
   "outputs": [],
   "source": [
    "output = map_reduce_chain({\"input_documents\": docs[:3]})"
   ]
  },
  {
   "cell_type": "code",
   "execution_count": 13,
   "id": "3e4a5881-bc51-4289-be5c-7fe6d8099700",
   "metadata": {
    "scrolled": true
   },
   "outputs": [
    {
     "data": {
      "text/plain": [
       "{'input_documents': [Document(page_content='Three years ago, we launched the great American comeback.  Tonight, I stand before you to share the incredible results.  Jobs are booming, incomes are soaring, poverty is plummeting, crime is falling, confidence is surging, and our country is thriving and highly respected again.  (Applause.)  America’s enemies are on the run, America’s fortunes are on the rise, and America’s future is blazing bright.\\nThe years of economic decay are over.  (Applause.)  The days of our country being used, taken advantage of, and even scorned by other nations are long behind us.  (Applause.)  Gone too are the broken promises, jobless recoveries, tired platitudes, and constant excuses for the depletion of American wealth, power, and prestige.\\nIn just three short years, we have shattered the mentality of American decline, and we have rejected the downsizing of America’s destiny.  We have totally rejected the downsizing.  We are moving forward at a pace that was unimaginable just a short time ago, and we are never, ever going back.  (Applause.)\\nI am thrilled to report to you tonight that our economy is the best it has ever been.  Our military is completely rebuilt, with its power being unmatched anywhere in the world — and it’s not even close.  Our borders are secure.  Our families are flourishing.  Our values are renewed.  Our pride is restored.  And for all of these reasons, I say to the people of our great country and to the members of Congress: The state of our Union is stronger than ever before.  (Applause.)\\nThe vision I will lay out this evening demonstrates how we are building the world’s most prosperous and inclusive society — one where every citizen can join in America’s unparalleled success and where every community can take part in America’s extraordinary rise.\\nFrom the instant I took office, I moved rapidly to revive the U.S. economy — slashing a record number of job-killing regulations, enacting historic and record-setting tax cuts, and fighting for fair and reciprocal trade agreements.  (Applause.)  Our agenda is relentlessly pro-worker, pro-family, pro-growth, and, most of all, pro-American.  (Applause.)  Thank you.  We are advancing with unbridled optimism and lifting our citizens of every race, color, religion, and creed very, very high.\\nSince my election, we have created 7 million new jobs — 5 million more than government experts projected during the previous administration.  (Applause.)\\nThe unemployment rate is the lowest in over half a century.  (Applause.)  And very incredibly, the average unemployment rate under my administration is lower than any administration in the history of our country.  (Applause.)  True.  If we hadn’t reversed the failed economic policies of the previous administration, the world would not now be witnessing this great economic success.  (Applause.)\\nThe unemployment rate for African Americans, Hispanic Americans, and Asian Americans has reached the lowest levels in history.  (Applause', metadata={}),\n",
       "  Document(page_content='(Applause.)  African American youth unemployment has reached an all-time low.  (Applause.)  African American poverty has declined to the lowest rate ever recorded.  (Applause.)\\nThe unemployment rate for women reached the lowest level in almost 70 years.  And, last year, women filled 72 percent of all new jobs added.  (Applause.)\\nThe veterans unemployment rate dropped to a record low.  (Applause.)  The unemployment rate for disabled Americans has reached an all-time low.  (Applause.)\\nWorkers without a high school diploma have achieved the lowest unemployment rate recorded in U.S. history.  (Applause.)  A record number of young Americans are now employed.  (Applause.)\\nUnder the last administration, more than 10 million people were added to the food stamp rolls.  Under my administration, 7 million Americans have come off food stamps, and 10 million people have been lifted off of welfare.  (Applause.)\\nIn eight years under the last administration, over 300,000 working-age people dropped out of the workforce.  In just three years of my administration, 3.5 million people — working-age people — have joined the workforce.  (Applause.)\\nSince my election, the net worth of the bottom half of wage earners has increased by 47 percent — three times faster than the increase for the top 1 percent.  (Applause.)  After decades of flat and falling incomes, wages are rising fast — and, wonderfully, they are rising fastest for low-income workers, who have seen a 16 percent pay increase since my election.  (Applause.)  This is a blue-collar boom.  (Applause.)\\nReal median household income is now at the highest level ever recorded.  (Applause.)\\nSince my election, U.S. stock markets have soared 70 percent, adding more than $12 trillion to our nation’s wealth, transcending anything anyone believed was possible.  This is a record.  It is something that every country in the world is looking up to.  They admire.  (Applause.)  Consumer confidence has just reached amazing new highs.\\nAll of those millions of people with 401(k)s and pensions are doing far better than they have ever done before with increases of 60, 70, 80, 90, and 100 percent, and even more.\\nJobs and investments are pouring into 9,000 previously neglected neighborhoods thanks to Opportunity Zones, a plan spearheaded by Senator Tim Scott as part of our great Republican tax cuts.  (Applause.)  In other words, wealthy people and companies are pouring money into poor neighborhoods or areas that haven’t seen investment in many decades, creating jobs, energy, and excitement.  (Applause.)  This is the first time that these deserving communities have seen anything like this.  It’s all working.\\nOpportunity Zones are helping Americans like Army veteran Tony Rankins from Cincinnati, Ohio.  After struggling with drug addiction, Tony lost his job, his house, and his family.  He was homeless.  But then Tony found a construction company that invests in Opportunity Zones', metadata={}),\n",
       "  Document(page_content='He was homeless.  But then Tony found a construction company that invests in Opportunity Zones.  He is now a top tradesman, drug-free, reunited with his family, and he is here tonight.  Tony, keep up the great work.  Tony.  (Applause.)  Thank you, Tony.\\nOur roaring economy has, for the first time ever, given many former prisoners the ability to get a great job and a fresh start.  This second chance at life is made possible because we passed landmark criminal justice reform into law.  Everybody said that criminal justice reform couldn’t be done, but I got it done, and the people in this room got it done.  (Applause.)\\nThanks to our bold regulatory reduction campaign, the United States has become the number one producer of oil and natural gas anywhere in the world, by far.  (Applause.)  With the tremendous progress we have made over the past three years, America is now energy independent, and energy jobs, like so many other elements of our country, are at a record high.  (Applause.)  We are doing numbers that no one would have thought possible just three years ago.\\nLikewise, we are restoring our nation’s manufacturing might, even though predictions were, as you all know, that this could never, ever be done.  After losing 60,000 factories under the previous two administrations, America has now gained 12,000 new factories under my administration, with thousands upon thousands of plants and factories being planned or being built.  (Applause.)  Companies are not leaving; they are coming back to the USA.  (Applause.)  The fact is that everybody wants to be where the action is, and the United States of America is indeed the place where the action is.  (Applause.)\\nOne of the biggest promises I made to the American people was to replace the disastrous NAFTA trade deal.  (Applause.)  In fact, unfair trade is perhaps the single biggest reason that I decided to run for President.  Following NAFTA’s adoption, our nation lost one in four manufacturing jobs.  Many politicians came and went, pledging to change or replace NAFTA, only to do so, and then absolutely nothing happened.  But unlike so many who came before me, I keep my promises.  We did our job.  (Applause.)\\nSix days ago, I replaced NAFTA and signed the brand-new U.S.-Mexico-Canada Agreement into law.  The USMCA will create nearly 100,000 new high-paying American auto jobs, and massively boost exports for our farmers, ranchers, and factory workers.  (Applause.)  It will also bring trade with Mexico and Canada to a much higher level, but also to be a much greater degree of fairness and reciprocity.  We will have that: fairness and reciprocity.  And I say that, finally, because it’s been many, many years that we were treated fairly on trade.  (Applause.)\\nThis is the first major trade deal in many years to earn the strong backing of America’s labor unions.  (Applause.)\\nI also promised our citizens that I would impose tariffs to confront China’s massive theft of America’s jobs.  Our strategy has worked', metadata={})],\n",
       " 'intermediate_steps': [\"\\n\\nThree years after launching the great American comeback, the results are incredible. Jobs are booming, incomes are soaring, poverty is plummeting, crime is falling, and confidence is surging, while America's enemies are on the run and America's fortunes are on the rise. The years of economic decay are over and the mentality of American decline has been shattered. We have totally rejected the failed economic policies of the previous administration and reversed them, resulting in an economy that is the best it has ever been with 7 million new jobs created, the lowest unemployment rate in over half a century, and an average unemployment rate lower than any administration in the history of the United States. The unemployment rate for African Americans, Hispanic Americans, and Asian Americans has also reached the lowest levels in history. We have fought for fair and reciprocal trade agreements, enacted record-setting tax cuts, and built a rebuilt military with unmatched power, secure borders, flourishing families, renewed values, restored pride, and an inclusive society where every citizen can join in America's success and every community can take part in America's extraordinary rise.\",\n",
       "  '\\nUnder the current administration, unemployment rates have dropped to historic lows for African Americans, women, veterans, disabled Americans, workers without a high school diploma, and young Americans. Additionally, 7 million Americans have come off food stamps and 10 million have been lifted off of welfare. In just three years of the current administration, 3.5 million working-age people have joined the workforce, resulting in the highest ever recorded real median household income. U.S. stock markets have soared 70 percent, adding more than $12 trillion to our nation’s wealth. Moreover, consumer confidence has reached new highs, and 401(k)s and pensions have seen increases of 60, 70, 80, 90, and 100 percent, and even more. Additionally, Opportunity Zones, a plan spearheaded by Senator Tim Scott as part of the great Republican tax cuts, have created jobs, energy, and excitement in 9,000 previously neglected neighborhoods, benefiting people like Army veteran Tony Rankins from Cincinnati, Ohio, who was once homeless and struggling with drug addiction.',\n",
       "  '\\n\\nTony, a homeless person, is now a top tradesman, drug-free, and reunited with his family due to a construction company investing in Opportunity Zones. This is made possible by the passing of criminal justice reform and bold regulatory reduction campaigns, allowing the US to become the number one producer of oil and natural gas, creating record high energy jobs. Under the current administration, the US has gained 12,000 new factories, replacing the disastrous NAFTA trade deal with the newly adopted USMCA, which has created nearly 100,000 new high-paying American auto jobs, boosted exports for American farmers, ranchers, and factory workers, and imposed tariffs to confront China’s massive theft of America’s jobs. This is the first major trade deal in many years to earn the strong backing of America’s labor unions.'],\n",
       " 'output_text': \"\\n\\nAfter three years of strong economic policies, the US is experiencing record-low unemployment rates, 7 million new jobs, and increased confidence. The current administration has reversed the previous administration's economic policies, resulting in unprecedented success. Unemployment rates have dropped to historic lows for African Americans, women, veterans, disabled Americans, workers without a high school diploma, and young Americans. Additionally, 7 million Americans have come off food stamps, 10 million have been lifted off of welfare, and 3.5 million working-age people have joined the workforce, resulting in the highest ever recorded real median household income. U.S. stock markets have soared 70 percent, adding more than $12 trillion to our nation’s wealth, and consumer confidence has reached new highs. 401(k)s and pensions have seen increases of up to 100 percent, and Opportunity Zones, a plan spearheaded by Senator Tim Scott, have created jobs, energy, and excitement in 9,000 previously neglected neighborhoods. Tony, a homeless person, is now a top tradesman, drug-free, and reunited with his family due to a construction company investing in Opportunity Zones. This is made possible by the passing of criminal justice reform and bold regulatory reduction campaigns, allowing the US to become the number one\"}"
      ]
     },
     "execution_count": 13,
     "metadata": {},
     "output_type": "execute_result"
    }
   ],
   "source": [
    "output"
   ]
  },
  {
   "cell_type": "markdown",
   "id": "b6b89baf-e37e-4e88-91d6-ad2f118afe1f",
   "metadata": {},
   "source": [
    "### Now we will use a custom MapReduceDocumentsChain to summarize and contrast the State of the Union speeches of President Obama, Trump, and Biden"
   ]
  },
  {
   "cell_type": "code",
   "execution_count": 14,
   "id": "5e102c32-cba4-434c-a1b4-9d0f9563a345",
   "metadata": {},
   "outputs": [],
   "source": [
    "prompt_template = \"\"\"Write a concise summary of the following:\n",
    "\n",
    "{text}\n",
    "\n",
    "CONCISE SUMMARY:\"\"\"\n",
    "PROMPT = PromptTemplate(template=prompt_template, input_variables=[\"text\"])\n",
    "refine_template = (\n",
    "    \"Your job is to produce a final summary constrasting the state of the union speeches of President Biden, Trump, and Obama.\\n\"\n",
    "    \"We have provided an existing summary up to a certain point: {existing_answer}\\n\"\n",
    "    \"We have the opportunity to refine the existing summary\"\n",
    "    \"(only if needed) with some more context below.\\n\"\n",
    "    \"------------\\n\"\n",
    "    \"{text}\\n\"\n",
    "    \"------------\\n\"\n",
    "    \"Given the new context, refine the original summary.\"\n",
    "    \"If the context isn't useful, return the original summary.\"\n",
    ")\n",
    "refine_prompt = PromptTemplate(\n",
    "    input_variables=[\"existing_answer\", \"text\"],\n",
    "    template=refine_template,\n",
    ")\n",
    "\n",
    "refine_chain = load_summarize_chain(llm2, chain_type=\"refine\", question_prompt=PROMPT, refine_prompt=refine_prompt)"
   ]
  },
  {
   "cell_type": "code",
   "execution_count": 15,
   "id": "b245326f-c7f6-49f9-9fe0-7a4d9ad0e2dd",
   "metadata": {},
   "outputs": [],
   "source": [
    "refine_text_splitter = CharacterTextSplitter(separator = \".\", chunk_size=3000, chunk_overlap=100)"
   ]
  },
  {
   "cell_type": "code",
   "execution_count": 16,
   "id": "fdf053c2-eeb2-4c78-aa2e-7ff7b0a7e4e8",
   "metadata": {},
   "outputs": [],
   "source": [
    "prompt_template = \"{text}\"\n",
    "prompt = PromptTemplate(\n",
    "    input_variables=[\"text\"], template=prompt_template\n",
    ") # kinda hacky but works\n",
    "refineLLMChain = RefineLLMChain(llm=llm1, prompt=prompt, text_splitter=refine_text_splitter)"
   ]
  },
  {
   "cell_type": "code",
   "execution_count": 17,
   "id": "497ed997-4f17-4682-9ec5-353cbc4d367e",
   "metadata": {},
   "outputs": [],
   "source": [
    "from langchain.chains.combine_documents.map_reduce import MapReduceDocumentsChain\n",
    "\n",
    "map_reduce_chain = MapReduceDocumentsChain(\n",
    "    llm_chain=refineLLMChain,\n",
    "    combine_document_chain=refine_chain,\n",
    "    return_intermediate_steps=True\n",
    ")"
   ]
  },
  {
   "cell_type": "code",
   "execution_count": 18,
   "id": "4dd9dad1-e672-42bc-bf65-dbabc8113bff",
   "metadata": {},
   "outputs": [],
   "source": [
    "president_names = [ path.split('/')[-1].replace('.txt', '') for path in paths if path.endswith('.txt')]"
   ]
  },
  {
   "cell_type": "code",
   "execution_count": 19,
   "id": "69b4a40a-9bd9-4f5a-90a6-b26b2bd28235",
   "metadata": {},
   "outputs": [],
   "source": [
    "from langchain.schema import Document\n",
    "\n",
    "docs = [Document(page_content=f\"President {president_names[index]}:\\n{text}\") for index, text in enumerate(texts)]"
   ]
  },
  {
   "cell_type": "code",
   "execution_count": null,
   "id": "396e5adc-0bbe-4e24-b64b-1b7cc838b99b",
   "metadata": {},
   "outputs": [],
   "source": [
    "output = map_reduce_chain({\"input_documents\": docs})"
   ]
  },
  {
   "cell_type": "code",
   "execution_count": null,
   "id": "f7b00c3c-9596-4a5d-a056-74b5f65992b0",
   "metadata": {},
   "outputs": [],
   "source": []
  },
  {
   "cell_type": "code",
   "execution_count": null,
   "id": "da2fda3e-34f4-4beb-a607-407d42fa8401",
   "metadata": {},
   "outputs": [],
   "source": []
  }
 ],
 "metadata": {
  "kernelspec": {
   "display_name": "Python 3 (ipykernel)",
   "language": "python",
   "name": "python3"
  },
  "language_info": {
   "codemirror_mode": {
    "name": "ipython",
    "version": 3
   },
   "file_extension": ".py",
   "mimetype": "text/x-python",
   "name": "python",
   "nbconvert_exporter": "python",
   "pygments_lexer": "ipython3",
   "version": "3.9.16"
  }
 },
 "nbformat": 4,
 "nbformat_minor": 5
}
