{
 "cells": [
  {
   "cell_type": "markdown",
   "id": "f27f0ae7",
   "metadata": {},
   "source": [
    "# Getting Started\n",
    "\n",
    "Agents use an LLM to determine which actions to take and in what order.\n",
    "An action can either be using a tool and observing its output, or returning to the user.\n",
    "\n",
    "When used correctly agents can be extremely powerful. The purpose of this notebook is to show you how to easily use agents through the simplest, highest level API."
   ]
  },
  {
   "cell_type": "markdown",
   "id": "962f016d",
   "metadata": {},
   "source": [
    "In order to load agents, you should understand the following concepts:\n",
    "\n",
    "- Tool: A function that performs a specific duty. This can be things like: Google Search, Database lookup, Python REPL, other chains. The interface for a tool is currently a function that is expected to have a string as an input, with a string as an output.\n",
    "- LLM: The language model powering the agent.\n",
    "- Agent: The agent to use. This should be a string that references a support agent class. Because this notebook focuses on the simplest, highest level API, this only covers using the standard supported agents. If you want to implement a custom agent, see the documentation for custom agents (coming soon).\n",
    "\n",
    "**Agents**: For a list of supported agents and their specifications, see [here](agents.md).\n",
    "\n",
    "**Tools**: For a list of predefined tools and their specifications, see [here](tools.md)."
   ]
  },
  {
   "cell_type": "code",
   "execution_count": null,
   "id": "f5eba4f9",
   "metadata": {
    "tags": []
   },
   "outputs": [],
   "source": [
    "from langchain.agents import load_tools\n",
    "from langchain.agents import initialize_agent\n",
    "from langchain.agents import AgentType\n",
    "from langchain.llms import OpenAI\n",
    "from langchain.tools import Tool\n",
    "from langchain.utilities import PythonREPL"
   ]
  },
  {
   "cell_type": "markdown",
   "id": "2078591a",
   "metadata": {},
   "source": [
    "First, let's load the language model we're going to use to control the agent."
   ]
  },
  {
   "cell_type": "code",
   "execution_count": null,
   "id": "01c843a2",
   "metadata": {
    "tags": []
   },
   "outputs": [],
   "source": [
    "llm = OpenAI(temperature=0)"
   ]
  },
  {
   "cell_type": "markdown",
   "id": "6ef22b0e",
   "metadata": {},
   "source": [
    "Next, let's load some tools to use. Note that the `llm-math` tool uses an LLM, so we need to pass that in."
   ]
  },
  {
   "cell_type": "code",
   "execution_count": null,
   "id": "7596d1f1",
   "metadata": {
    "tags": []
   },
   "outputs": [],
   "source": [
    "def create_deployment_package(\n",
    "    lambda_code, dependencies=[], project_name='lambda_project', output_zip_name='lambda.zip'\n",
    "):\n",
    "    \"\"\"\n",
    "    Create a deployment package with dependencies.\n",
    "    \"\"\"\n",
    "    # Create the project directory\n",
    "    os.makedirs(project_name, exist_ok=True)\n",
    "\n",
    "    # Write the lambda code to the lambda_function.py file\n",
    "    with open(os.path.join(project_name, \"lambda_function.py\"), \"w\") as f:\n",
    "        f.write(lambda_code)\n",
    "\n",
    "    # Install the dependencies to the package directory\n",
    "    package_dir = os.path.join(project_name, \"package\")\n",
    "    os.makedirs(package_dir, exist_ok=True)\n",
    "\n",
    "    for dependency in dependencies:\n",
    "        subprocess.run([\"pip\", \"install\", \"--target\", package_dir, dependency])\n",
    "\n",
    "    # Create a .zip file for the deployment package\n",
    "    with zipfile.ZipFile(output_zip_name, \"w\") as zipf:\n",
    "        # Add the installed dependencies to the .zip file\n",
    "        for root, _, files in os.walk(package_dir):\n",
    "            for file in files:\n",
    "                zipf.write(\n",
    "                    os.path.join(root, file),\n",
    "                    os.path.relpath(os.path.join(root, file), package_dir),\n",
    "                )\n",
    "        # Add the lambda_function.py file to the .zip file\n",
    "        zipf.write(\n",
    "            os.path.join(project_name, \"lambda_function.py\"), \"lambda_function.py\"\n",
    "        )\n",
    "\n",
    "    # Clean up the project directory\n",
    "    #shutil.rmtree(project_name)\n",
    "\n",
    "    return output_zip_name\n"
   ]
  },
  {
   "cell_type": "code",
   "execution_count": null,
   "id": "f07a3b44",
   "metadata": {
    "tags": []
   },
   "outputs": [],
   "source": [
    "import boto3\n",
    "import json\n",
    "import os\n",
    "import zipfile\n",
    "import shutil\n",
    "from botocore.exceptions import ClientError\n",
    "import logging\n",
    "import subprocess\n",
    "\n",
    "client = boto3.client('lambda')\n",
    "\n",
    "def create_lambda_function(lambda_data):\n",
    "    \"\"\"\n",
    "    Create Lambda Function\n",
    "    \n",
    "    Input the the function if a stringified json object with the following fields:\n",
    "        name - lambda function name\n",
    "        code - lambda function code\n",
    "        requirements - list of dependencies needed for the code to run\n",
    "    \"\"\"\n",
    "    lines = lambda_data.split('\\n')\n",
    "    iam_role = os.getenv('LAMBDA_ROLE')\n",
    "    meta = json.loads(lines[0])\n",
    "    function_name = meta[\"name\"]\n",
    "    dependencies = meta[\"dependencies\"]\n",
    "    code = '\\n'.join(lines[1:]) + '\\n'\n",
    "    print('code is ')\n",
    "    print(code)\n",
    "    \n",
    "    # !!! HARD CODED !!!\n",
    "    runtime = \"python3.8\"\n",
    "    handler = \"lambda_function.handler\"\n",
    "\n",
    "    output_zip_name = 'lambda.zip'\n",
    "    create_deployment_package(\n",
    "        code,\n",
    "        dependencies=dependencies,\n",
    "        output_zip_name=output_zip_name\n",
    "    )\n",
    "    \n",
    "    try:\n",
    "\n",
    "        with open(output_zip_name, 'rb') as zipfile:\n",
    "            response = client.create_function(\n",
    "                Code={\n",
    "                    \"ZipFile\": zipfile.read()\n",
    "                },\n",
    "                FunctionName=function_name,\n",
    "                Handler=handler,\n",
    "                Runtime=runtime,\n",
    "                Role=iam_role\n",
    "            )\n",
    "\n",
    "        cors_config = {\n",
    "            \"AllowMethods\": [\"*\"],\n",
    "            \"AllowOrigins\": [\"*\"],\n",
    "            \"AllowHeaders\": [\"access-control-allow-origin\", \"content-type\"],\n",
    "        }\n",
    "\n",
    "        # Create a Function URL\n",
    "        response = client.create_function_url_config(\n",
    "            FunctionName=function_name,\n",
    "            AuthType=\"NONE\",\n",
    "            Cors=cors_config,\n",
    "        )\n",
    "        logging.info(\"making URL public\")\n",
    "\n",
    "        # Make Function URL public\n",
    "        # for some reason lambda:InvokeFunctionUrl doesnt exist in boto3 yet...\n",
    "        cmd = [\n",
    "            \"aws\",\n",
    "            \"lambda\",\n",
    "            \"add-permission\",\n",
    "            \"--function-name\",\n",
    "            function_name,\n",
    "            \"--action\",\n",
    "            \"lambda:InvokeFunctionUrl\",\n",
    "            \"--statement-id\",\n",
    "            \"FunctionURLAllowPublicAccess\",\n",
    "            \"--principal\",\n",
    "            \"*\",\n",
    "            \"--function-url-auth-type\",\n",
    "            \"NONE\",\n",
    "        ]\n",
    "        subprocess.run(cmd)\n",
    "\n",
    "        logging.info(\"done and done\")\n",
    "\n",
    "        return json.dumps(response), 200\n",
    "    except ClientError as e:\n",
    "        return json.dumps(str(e)), e.response[\"Error\"][\"Code\"]"
   ]
  },
  {
   "cell_type": "code",
   "execution_count": null,
   "id": "0fb4d319-09fc-4abb-b8a3-b5179cb36ca6",
   "metadata": {
    "tags": []
   },
   "outputs": [],
   "source": [
    "import boto3\n",
    "\n",
    "\n",
    "def send_email(text):\n",
    "    # Create a new SES resource\n",
    "    print('sending email...', text)\n",
    "    ses = boto3.client('ses')  # Replace with your desired region\n",
    "\n",
    "    # Define the sender and recipient email addresses\n",
    "    sender_email = 'mcclanahanbrian@gmail.com'\n",
    "    recipient_email = 'mcclanahanbrian@gmail.com'\n",
    "\n",
    "    # Create a MIME-formatted message\n",
    "    subject = 'Langchain Example App'\n",
    "    body_text = text\n",
    "    body_html = '<html><body><h1>Chat GPT Example app</h1></body></html>'\n",
    "    charset = 'UTF-8'\n",
    "\n",
    "    # Create the message\n",
    "    message = {\n",
    "        'Subject': {\n",
    "            'Data': subject,\n",
    "            'Charset': charset\n",
    "        },\n",
    "        'Body': {\n",
    "            'Text': {\n",
    "                'Data': body_text,\n",
    "                'Charset': charset\n",
    "            }\n",
    "        }\n",
    "    }\n",
    "\n",
    "    # Send the email\n",
    "    response = ses.send_email(\n",
    "        Source=sender_email,\n",
    "        Destination={\n",
    "            'ToAddresses': [recipient_email]\n",
    "        },\n",
    "        Message=message\n",
    "    )\n",
    "\n",
    "    # Print the MessageId of the sent email\n",
    "    print('Email sent successfully. MessageId:', response['MessageId'])\n"
   ]
  },
  {
   "cell_type": "code",
   "execution_count": null,
   "id": "c6ce498f",
   "metadata": {
    "tags": []
   },
   "outputs": [],
   "source": [
    "create_lambda_func_desc = \"\"\"\n",
    "    A tool used create lambda functions for Python 3.8. The input to the tool will be two or more lines. The first line will contain a json object which is properly enclosed using double quotes that has the name of the function under the field \"name\" and a list of dependencies under the field \"dependencies\". The second through the remaining lines will contain the code for the lambda function. The name of the lambda function must be 'handler'. Be sure to use proper python syntax when creating the lambda function. If the function needs to return html for a webpage then return a python dictionary with the \"statusCode\" field set to 200, set the \"Content-Type\" under \"headers\" with \"text/html\" and set \"body\" to be the html content.\n",
    "\"\"\""
   ]
  },
  {
   "cell_type": "code",
   "execution_count": null,
   "id": "a554d2a6-8335-4077-9df8-50adbf06488c",
   "metadata": {
    "tags": []
   },
   "outputs": [],
   "source": [
    "tools = load_tools(\n",
    "    [\"serpapi\"],\n",
    "    llm=llm\n",
    ")"
   ]
  },
  {
   "cell_type": "code",
   "execution_count": null,
   "id": "2b4776cc",
   "metadata": {
    "tags": []
   },
   "outputs": [],
   "source": [
    "tools.extend([\n",
    "    Tool.from_function(\n",
    "        func=create_lambda_function,\n",
    "        name = \"createLambdaFunction\",\n",
    "        description=create_lambda_func_desc\n",
    "    ),\n",
    "    Tool.from_function(\n",
    "        func=send_email,\n",
    "        name = \"sendEmail\",\n",
    "        description=\"A function to send emails. Input should be the content of the email.\"\n",
    "    ),\n",
    "])"
   ]
  },
  {
   "cell_type": "code",
   "execution_count": null,
   "id": "1edb690e",
   "metadata": {
    "tags": []
   },
   "outputs": [],
   "source": [
    "agent = initialize_agent(tools, llm, agent=AgentType.ZERO_SHOT_REACT_DESCRIPTION, verbose=True, max_iterations=3)\n",
    "#agent = initialize_agent(tools, llm, agent=AgentType.STRUCTURED_CHAT_ZERO_SHOT_REACT_DESCRIPTION, verbose=True, max_iterations=3)"
   ]
  },
  {
   "cell_type": "markdown",
   "id": "b6f2e248",
   "metadata": {},
   "source": [
    "Now let's test it out!"
   ]
  },
  {
   "cell_type": "code",
   "execution_count": null,
   "id": "2a250554-286a-4f6e-8250-f6b487fc6c8c",
   "metadata": {
    "tags": []
   },
   "outputs": [],
   "source": [
    "#agent.run(\"Create a lambda function named 'helloWorld' that returns 'Hello World'. Return the function url for the created lambda function.\")"
   ]
  },
  {
   "cell_type": "code",
   "execution_count": null,
   "id": "3ed3dd70",
   "metadata": {
    "tags": []
   },
   "outputs": [],
   "source": [
    "#agent.run(\"create a lambda function named 'circleDragger' that returns the html for a website that lets me drag a red circle across the screen. Return the function url for the created lambda function.\")"
   ]
  },
  {
   "cell_type": "code",
   "execution_count": null,
   "id": "a062e1d8",
   "metadata": {
    "tags": []
   },
   "outputs": [],
   "source": [
    "from IPython.core.magic import register_line_cell_magic"
   ]
  },
  {
   "cell_type": "code",
   "execution_count": null,
   "id": "0a5d1d6d-b34b-4985-9c7a-f875eecc83d2",
   "metadata": {
    "tags": []
   },
   "outputs": [],
   "source": [
    "@register_line_cell_magic\n",
    "def chat_agent(line, cell=None):\n",
    "    \"Magic that works both as %lcmagic and as %%lcmagic\"\n",
    "    if cell is None:\n",
    "        response = agent.run(line)\n",
    "        \n",
    "    else:\n",
    "        response = agent.run(cell)\n",
    "    return response"
   ]
  },
  {
   "cell_type": "code",
   "execution_count": null,
   "id": "cc647db1-653f-4e1f-a1a8-273d2c1056ab",
   "metadata": {},
   "outputs": [],
   "source": []
  },
  {
   "cell_type": "code",
   "execution_count": null,
   "id": "ef8a0457-061b-428f-9d36-117d1ad20e46",
   "metadata": {
    "tags": []
   },
   "outputs": [],
   "source": [
    "%%chat_agent\n",
    "Create a lambda function that returns html with \"hello Rikia how are you\" in a header. The name of the lambda function should be testLambda. Return the function url for the created lambda function"
   ]
  },
  {
   "cell_type": "code",
   "execution_count": null,
   "id": "a4feb6c0-0661-4f85-b2cf-8b463243e5ea",
   "metadata": {
    "tags": []
   },
   "outputs": [],
   "source": [
    "%%chat_agent\n",
    "Send me an email that contains the weather in Oxon Hill Maryland"
   ]
  },
  {
   "cell_type": "code",
   "execution_count": null,
   "id": "74e6a5c9-2294-4bba-ba08-418299e8ebeb",
   "metadata": {},
   "outputs": [],
   "source": []
  }
 ],
 "metadata": {
  "kernelspec": {
   "display_name": "Python 3 (ipykernel)",
   "language": "python",
   "name": "python3"
  },
  "language_info": {
   "codemirror_mode": {
    "name": "ipython",
    "version": 3
   },
   "file_extension": ".py",
   "mimetype": "text/x-python",
   "name": "python",
   "nbconvert_exporter": "python",
   "pygments_lexer": "ipython3",
   "version": "3.8.13"
  }
 },
 "nbformat": 4,
 "nbformat_minor": 5
}
