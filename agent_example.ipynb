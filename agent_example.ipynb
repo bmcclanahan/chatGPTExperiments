{
 "cells": [
  {
   "cell_type": "markdown",
   "id": "f27f0ae7",
   "metadata": {},
   "source": [
    "# Getting Started\n",
    "\n",
    "Agents use an LLM to determine which actions to take and in what order.\n",
    "An action can either be using a tool and observing its output, or returning to the user.\n",
    "\n",
    "When used correctly agents can be extremely powerful. The purpose of this notebook is to show you how to easily use agents through the simplest, highest level API."
   ]
  },
  {
   "cell_type": "markdown",
   "id": "962f016d",
   "metadata": {},
   "source": [
    "In order to load agents, you should understand the following concepts:\n",
    "\n",
    "- Tool: A function that performs a specific duty. This can be things like: Google Search, Database lookup, Python REPL, other chains. The interface for a tool is currently a function that is expected to have a string as an input, with a string as an output.\n",
    "- LLM: The language model powering the agent.\n",
    "- Agent: The agent to use. This should be a string that references a support agent class. Because this notebook focuses on the simplest, highest level API, this only covers using the standard supported agents.\n",
    "\n",
    "**Agents**: For a list of supported agents and their specifications, see [here](https://python.langchain.com/docs/modules/agents/agent_types/).\n",
    "\n",
    "**Tools**: For a list of predefined tools and their specifications, see [here](https://python.langchain.com/docs/modules/agents/tools/)."
   ]
  },
  {
   "cell_type": "code",
   "execution_count": 1,
   "id": "f5eba4f9",
   "metadata": {
    "tags": []
   },
   "outputs": [],
   "source": [
    "from langchain.agents import load_tools\n",
    "from langchain.agents import initialize_agent\n",
    "from langchain.agents import AgentType\n",
    "from langchain.llms import OpenAI\n",
    "from langchain.tools import Tool"
   ]
  },
  {
   "cell_type": "markdown",
   "id": "2078591a",
   "metadata": {},
   "source": [
    "First, let's load the language model we're going to use to control the agent."
   ]
  },
  {
   "cell_type": "code",
   "execution_count": 2,
   "id": "01c843a2",
   "metadata": {
    "tags": []
   },
   "outputs": [],
   "source": [
    "llm = OpenAI(temperature=0)"
   ]
  },
  {
   "cell_type": "markdown",
   "id": "6ef22b0e",
   "metadata": {},
   "source": [
    "Next, let's load some tools to use. Note that the `llm-math` tool uses an LLM, so we need to pass that in."
   ]
  },
  {
   "cell_type": "code",
   "execution_count": 3,
   "id": "a554d2a6-8335-4077-9df8-50adbf06488c",
   "metadata": {
    "tags": []
   },
   "outputs": [],
   "source": [
    "tools = load_tools(\n",
    "    [\"serpapi\"], # tool for web search\n",
    "    llm=llm\n",
    ")"
   ]
  },
  {
   "cell_type": "markdown",
   "id": "1f5a11ef-5fc6-4e41-92f8-bd2262b134f6",
   "metadata": {},
   "source": [
    "We will add a tool that the agent can use to add two numbers"
   ]
  },
  {
   "cell_type": "code",
   "execution_count": 4,
   "id": "94da95d4-fc51-4129-834d-1f089fd937a3",
   "metadata": {},
   "outputs": [],
   "source": [
    "def add_numbers(str_numbers):\n",
    "    num1, num2 = str_numbers.split(',')[:2]\n",
    "    return float(num1) + float(num2)"
   ]
  },
  {
   "cell_type": "code",
   "execution_count": 5,
   "id": "2b4776cc",
   "metadata": {
    "tags": []
   },
   "outputs": [],
   "source": [
    "tools.append(\n",
    "    Tool.from_function(\n",
    "        func=add_numbers,\n",
    "        name = \"addTool\",\n",
    "        description=\"Used to add two numbers. Takes two numbers seperated by a comma as input.\"\n",
    "    )\n",
    ")"
   ]
  },
  {
   "cell_type": "code",
   "execution_count": 8,
   "id": "1edb690e",
   "metadata": {
    "tags": []
   },
   "outputs": [],
   "source": [
    "agent = initialize_agent(\n",
    "    tools, \n",
    "    llm,\n",
    "    agent=AgentType.ZERO_SHOT_REACT_DESCRIPTION,\n",
    "    verbose=True,\n",
    "    max_iterations=3\n",
    ")"
   ]
  },
  {
   "cell_type": "markdown",
   "id": "b6f2e248",
   "metadata": {},
   "source": [
    "Now let's test it out!"
   ]
  },
  {
   "cell_type": "code",
   "execution_count": 9,
   "id": "2a250554-286a-4f6e-8250-f6b487fc6c8c",
   "metadata": {
    "tags": []
   },
   "outputs": [
    {
     "name": "stdout",
     "output_type": "stream",
     "text": [
      "\n",
      "\n",
      "\u001b[1m> Entering new AgentExecutor chain...\u001b[0m\n",
      "\u001b[32;1m\u001b[1;3m I need to find the current temperature and then add 10 degrees.\n",
      "Action: Search\n",
      "Action Input: Current temperature in Oxon Hill Maryland\u001b[0m\n",
      "Observation: \u001b[36;1m\u001b[1;3mPartly cloudy in the morning followed by scattered thunderstorms in the afternoon. High 87F. Winds WSW at 5 to 10 mph. Chance of rain 40%.\u001b[0m\n",
      "Thought:\u001b[32;1m\u001b[1;3m I need to add 10 degrees to the current temperature.\n",
      "Action: addTool\n",
      "Action Input: 87, 10\u001b[0m\n",
      "Observation: \u001b[33;1m\u001b[1;3m97.0\u001b[0m\n",
      "Thought:\u001b[32;1m\u001b[1;3m I now know the final answer.\n",
      "Final Answer: The current temperature in Oxon Hill Maryland plus 10 degrees is 97.0 degrees.\u001b[0m\n",
      "\n",
      "\u001b[1m> Finished chain.\u001b[0m\n"
     ]
    },
    {
     "data": {
      "text/plain": [
       "'The current temperature in Oxon Hill Maryland plus 10 degrees is 97.0 degrees.'"
      ]
     },
     "execution_count": 9,
     "metadata": {},
     "output_type": "execute_result"
    }
   ],
   "source": [
    "agent.run(\"Determine what the current temperature in Oxon Hill Maryland is plus 10 degrees.\")"
   ]
  },
  {
   "cell_type": "code",
   "execution_count": null,
   "id": "92e1f6db-4fdf-4b41-8ecc-0cf56599f716",
   "metadata": {},
   "outputs": [],
   "source": []
  }
 ],
 "metadata": {
  "kernelspec": {
   "display_name": "Python 3 (ipykernel)",
   "language": "python",
   "name": "python3"
  },
  "language_info": {
   "codemirror_mode": {
    "name": "ipython",
    "version": 3
   },
   "file_extension": ".py",
   "mimetype": "text/x-python",
   "name": "python",
   "nbconvert_exporter": "python",
   "pygments_lexer": "ipython3",
   "version": "3.8.13"
  }
 },
 "nbformat": 4,
 "nbformat_minor": 5
}
